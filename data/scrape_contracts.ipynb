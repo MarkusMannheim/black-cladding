{
 "cells": [
  {
   "cell_type": "code",
   "execution_count": 13,
   "metadata": {},
   "outputs": [],
   "source": [
    "import pandas as pd\n",
    "import time\n",
    "from selenium import webdriver\n",
    "from selenium.webdriver.chrome.options import Options\n",
    "from selenium.webdriver.common.by import By\n",
    "from selenium.webdriver.common.keys import Keys\n",
    "from selenium.webdriver.support.ui import WebDriverWait\n",
    "from selenium.webdriver.support import expected_conditions as EC\n",
    "\n",
    "# read in business data\n",
    "data = pd.read_csv(\"./new_business_data.csv\", dtype={\"abn\": \"str\"})\n",
    "\n",
    "# clean data\n",
    "\n",
    "# use a headless browser (saves time)\n",
    "chrome_options = Options()\n",
    "# chrome_options.add_argument(\"--headless\")\n",
    "\n",
    "# set up the browser\n",
    "driver = webdriver.Chrome(options=chrome_options)\n",
    "\n",
    "# begin loop\n",
    "driver.get(\"https://www.tenders.gov.au/cn/search\")\n",
    "abn_field = WebDriverWait(driver, 10).until(\n",
    "    EC.visibility_of_element_located((By.ID, \"form-SupplierAbn\"))\n",
    ")\n",
    "\n",
    "abn_field.clear()\n",
    "abn_field.send_keys(data.iloc[0][\"abn\"])\n",
    "driver.find_element_by_css_selector(\"#actions .btn-search\").click()"
   ]
  },
  {
   "cell_type": "code",
   "execution_count": null,
   "metadata": {},
   "outputs": [],
   "source": []
  }
 ],
 "metadata": {
  "kernelspec": {
   "display_name": "Python 3",
   "language": "python",
   "name": "python3"
  },
  "language_info": {
   "codemirror_mode": {
    "name": "ipython",
    "version": 3
   },
   "file_extension": ".py",
   "mimetype": "text/x-python",
   "name": "python",
   "nbconvert_exporter": "python",
   "pygments_lexer": "ipython3",
   "version": "3.8.5"
  }
 },
 "nbformat": 4,
 "nbformat_minor": 4
}
